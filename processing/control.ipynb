{
 "cells": [
  {
   "cell_type": "code",
   "execution_count": 20,
   "id": "61a7bcaa",
   "metadata": {},
   "outputs": [],
   "source": [
    "# imports\n",
    "import pandas as pd\n",
    "import numpy as np"
   ]
  },
  {
   "cell_type": "code",
   "execution_count": 21,
   "id": "57e99836",
   "metadata": {},
   "outputs": [],
   "source": [
    "# read data\n",
    "df = pd.read_csv('../data/control_statistics.csv')\n",
    "match_info = pd.read_csv('../data/match_info.csv')"
   ]
  },
  {
   "cell_type": "code",
   "execution_count": 22,
   "id": "c0128fa3",
   "metadata": {},
   "outputs": [
    {
     "data": {
      "text/html": [
       "<div>\n",
       "<style scoped>\n",
       "    .dataframe tbody tr th:only-of-type {\n",
       "        vertical-align: middle;\n",
       "    }\n",
       "\n",
       "    .dataframe tbody tr th {\n",
       "        vertical-align: top;\n",
       "    }\n",
       "\n",
       "    .dataframe thead th {\n",
       "        text-align: right;\n",
       "    }\n",
       "</style>\n",
       "<table border=\"1\" class=\"dataframe\">\n",
       "  <thead>\n",
       "    <tr style=\"text-align: right;\">\n",
       "      <th></th>\n",
       "      <th>tournament_id</th>\n",
       "      <th>match_id</th>\n",
       "      <th>period</th>\n",
       "      <th>homeTeamControlDuration</th>\n",
       "      <th>awayTeamControlDuration</th>\n",
       "      <th>contestedControlDuration</th>\n",
       "      <th>looseDuration</th>\n",
       "    </tr>\n",
       "  </thead>\n",
       "  <tbody>\n",
       "    <tr>\n",
       "      <th>0</th>\n",
       "      <td>57</td>\n",
       "      <td>1257</td>\n",
       "      <td>1</td>\n",
       "      <td>238.92</td>\n",
       "      <td>166.08</td>\n",
       "      <td>53.28</td>\n",
       "      <td>233.34</td>\n",
       "    </tr>\n",
       "  </tbody>\n",
       "</table>\n",
       "</div>"
      ],
      "text/plain": [
       "   tournament_id  match_id  period  homeTeamControlDuration  \\\n",
       "0             57      1257       1                   238.92   \n",
       "\n",
       "   awayTeamControlDuration  contestedControlDuration  looseDuration  \n",
       "0                   166.08                     53.28         233.34  "
      ]
     },
     "execution_count": 22,
     "metadata": {},
     "output_type": "execute_result"
    }
   ],
   "source": [
    "# head\n",
    "df.head(1)"
   ]
  },
  {
   "cell_type": "code",
   "execution_count": 23,
   "id": "35fc6a65",
   "metadata": {},
   "outputs": [],
   "source": [
    "df['control_duration'] = df['awayTeamControlDuration'] + df['homeTeamControlDuration'] + df['contestedControlDuration'] + df['looseDuration']\n",
    "df['homeTeamControlPercentage'] = df['homeTeamControlDuration'] / df['control_duration']\n",
    "df['awayTeamControlPercentage'] = df['awayTeamControlDuration'] / df['control_duration']\n",
    "df['contestedControlPercentage'] = df['contestedControlDuration'] / df['control_duration']\n",
    "df['looseControlPercentage'] = df['looseDuration'] / df['control_duration']"
   ]
  },
  {
   "cell_type": "code",
   "execution_count": 24,
   "id": "9d5ccc63",
   "metadata": {},
   "outputs": [],
   "source": [
    "# merge with match info\n",
    "df = df.merge(match_info, on='match_id', how='right')"
   ]
  },
  {
   "cell_type": "code",
   "execution_count": 25,
   "id": "820ed46e",
   "metadata": {},
   "outputs": [
    {
     "data": {
      "text/html": [
       "<div>\n",
       "<style scoped>\n",
       "    .dataframe tbody tr th:only-of-type {\n",
       "        vertical-align: middle;\n",
       "    }\n",
       "\n",
       "    .dataframe tbody tr th {\n",
       "        vertical-align: top;\n",
       "    }\n",
       "\n",
       "    .dataframe thead th {\n",
       "        text-align: right;\n",
       "    }\n",
       "</style>\n",
       "<table border=\"1\" class=\"dataframe\">\n",
       "  <thead>\n",
       "    <tr style=\"text-align: right;\">\n",
       "      <th></th>\n",
       "      <th>homeTeamControlPercentage</th>\n",
       "      <th>awayTeamControlPercentage</th>\n",
       "      <th>home_team_int</th>\n",
       "      <th>away_team_int</th>\n",
       "    </tr>\n",
       "  </thead>\n",
       "  <tbody>\n",
       "    <tr>\n",
       "      <th>0</th>\n",
       "      <td>0.407279</td>\n",
       "      <td>0.249149</td>\n",
       "      <td>1</td>\n",
       "      <td>0</td>\n",
       "    </tr>\n",
       "    <tr>\n",
       "      <th>1</th>\n",
       "      <td>0.273615</td>\n",
       "      <td>0.356121</td>\n",
       "      <td>1</td>\n",
       "      <td>0</td>\n",
       "    </tr>\n",
       "    <tr>\n",
       "      <th>2</th>\n",
       "      <td>0.338450</td>\n",
       "      <td>0.323764</td>\n",
       "      <td>1</td>\n",
       "      <td>0</td>\n",
       "    </tr>\n",
       "    <tr>\n",
       "      <th>3</th>\n",
       "      <td>0.381866</td>\n",
       "      <td>0.238748</td>\n",
       "      <td>1</td>\n",
       "      <td>0</td>\n",
       "    </tr>\n",
       "    <tr>\n",
       "      <th>4</th>\n",
       "      <td>0.397250</td>\n",
       "      <td>0.298882</td>\n",
       "      <td>0</td>\n",
       "      <td>0</td>\n",
       "    </tr>\n",
       "    <tr>\n",
       "      <th>...</th>\n",
       "      <td>...</td>\n",
       "      <td>...</td>\n",
       "      <td>...</td>\n",
       "      <td>...</td>\n",
       "    </tr>\n",
       "    <tr>\n",
       "      <th>790</th>\n",
       "      <td>0.183308</td>\n",
       "      <td>0.478418</td>\n",
       "      <td>0</td>\n",
       "      <td>1</td>\n",
       "    </tr>\n",
       "    <tr>\n",
       "      <th>791</th>\n",
       "      <td>0.301458</td>\n",
       "      <td>0.339722</td>\n",
       "      <td>0</td>\n",
       "      <td>0</td>\n",
       "    </tr>\n",
       "    <tr>\n",
       "      <th>792</th>\n",
       "      <td>0.313102</td>\n",
       "      <td>0.322298</td>\n",
       "      <td>0</td>\n",
       "      <td>0</td>\n",
       "    </tr>\n",
       "    <tr>\n",
       "      <th>793</th>\n",
       "      <td>0.353805</td>\n",
       "      <td>0.312075</td>\n",
       "      <td>1</td>\n",
       "      <td>1</td>\n",
       "    </tr>\n",
       "    <tr>\n",
       "      <th>794</th>\n",
       "      <td>0.318746</td>\n",
       "      <td>0.262091</td>\n",
       "      <td>1</td>\n",
       "      <td>1</td>\n",
       "    </tr>\n",
       "  </tbody>\n",
       "</table>\n",
       "<p>795 rows × 4 columns</p>\n",
       "</div>"
      ],
      "text/plain": [
       "     homeTeamControlPercentage  awayTeamControlPercentage  home_team_int  \\\n",
       "0                     0.407279                   0.249149              1   \n",
       "1                     0.273615                   0.356121              1   \n",
       "2                     0.338450                   0.323764              1   \n",
       "3                     0.381866                   0.238748              1   \n",
       "4                     0.397250                   0.298882              0   \n",
       "..                         ...                        ...            ...   \n",
       "790                   0.183308                   0.478418              0   \n",
       "791                   0.301458                   0.339722              0   \n",
       "792                   0.313102                   0.322298              0   \n",
       "793                   0.353805                   0.312075              1   \n",
       "794                   0.318746                   0.262091              1   \n",
       "\n",
       "     away_team_int  \n",
       "0                0  \n",
       "1                0  \n",
       "2                0  \n",
       "3                0  \n",
       "4                0  \n",
       "..             ...  \n",
       "790              1  \n",
       "791              0  \n",
       "792              0  \n",
       "793              1  \n",
       "794              1  \n",
       "\n",
       "[795 rows x 4 columns]"
      ]
     },
     "execution_count": 25,
     "metadata": {},
     "output_type": "execute_result"
    }
   ],
   "source": [
    "df = df[['homeTeamControlPercentage', \n",
    "         'awayTeamControlPercentage',  \n",
    "         'home_team_int', \n",
    "         'away_team_int']]\n",
    "df"
   ]
  },
  {
   "cell_type": "code",
   "execution_count": 26,
   "id": "53492e71",
   "metadata": {},
   "outputs": [],
   "source": [
    "import pandas as pd\n",
    "\n",
    "# Assuming your DataFrame is named df\n",
    "df['match_type'] = df['home_team_int'] + df['away_team_int']\n",
    "\n",
    "# Optionally map to strings for clarity\n",
    "df['match_type_label'] = df['match_type'].map({\n",
    "    0: 'Domestic',\n",
    "    1: 'Mixed',\n",
    "    2: 'International'\n",
    "})\n"
   ]
  },
  {
   "cell_type": "code",
   "execution_count": 27,
   "id": "59e73f68",
   "metadata": {},
   "outputs": [],
   "source": [
    "# Create a long-form dataframe for easier analysis\n",
    "df_long = pd.DataFrame({\n",
    "    'team': ['home'] * len(df) + ['away'] * len(df),\n",
    "    'control_pct': pd.concat([df['homeTeamControlPercentage'], df['awayTeamControlPercentage']]).reset_index(drop=True),\n",
    "    'is_int': pd.concat([df['home_team_int'], df['away_team_int']]).reset_index(drop=True),\n",
    "    'match_type': pd.concat([df['match_type']] * 2).reset_index(drop=True),\n",
    "    'match_type_label': pd.concat([df['match_type_label']] * 2).reset_index(drop=True)\n",
    "})\n"
   ]
  },
  {
   "cell_type": "code",
   "execution_count": 28,
   "id": "46d605e0",
   "metadata": {},
   "outputs": [
    {
     "name": "stdout",
     "output_type": "stream",
     "text": [
      "is_int\n",
      "0    0.303352\n",
      "1    0.316456\n",
      "Name: control_pct, dtype: float64\n"
     ]
    }
   ],
   "source": [
    "avg_control_by_int = df_long.groupby('is_int')['control_pct'].mean()\n",
    "print(avg_control_by_int)\n"
   ]
  },
  {
   "cell_type": "code",
   "execution_count": 29,
   "id": "2c27bade",
   "metadata": {},
   "outputs": [
    {
     "name": "stdout",
     "output_type": "stream",
     "text": [
      "match_type_label\n",
      "Domestic         0.307547\n",
      "International    0.306084\n",
      "Mixed            0.308232\n",
      "Name: control_pct, dtype: float64\n"
     ]
    }
   ],
   "source": [
    "avg_control_by_match_type = df_long.groupby('match_type_label')['control_pct'].mean()\n",
    "print(avg_control_by_match_type)\n"
   ]
  },
  {
   "cell_type": "code",
   "execution_count": 30,
   "id": "7dfff3e2",
   "metadata": {},
   "outputs": [
    {
     "name": "stdout",
     "output_type": "stream",
     "text": [
      "is_int                   0         1\n",
      "match_type_label                    \n",
      "Domestic          0.307547       NaN\n",
      "International          NaN  0.306084\n",
      "Mixed             0.296549  0.319914\n"
     ]
    }
   ],
   "source": [
    "cross_comparison = df_long.groupby(['match_type_label', 'is_int'])['control_pct'].mean().unstack()\n",
    "print(cross_comparison)\n"
   ]
  },
  {
   "cell_type": "code",
   "execution_count": 31,
   "id": "e2fceaef",
   "metadata": {},
   "outputs": [
    {
     "data": {
      "image/png": "[encoded data removed]",
      "text/plain": [
       "<Figure size 640x480 with 1 Axes>"
      ]
     },
     "metadata": {},
     "output_type": "display_data"
    }
   ],
   "source": [
    "import seaborn as sns\n",
    "import matplotlib.pyplot as plt\n",
    "\n",
    "sns.boxplot(x='match_type_label', y='control_pct', hue='is_int', data=df_long)\n",
    "plt.title('Control % by Match Type and Team Internationality')\n",
    "plt.ylabel('Control Percentage')\n",
    "plt.xlabel('Match Type')\n",
    "plt.legend(title='Is International')\n",
    "plt.tight_layout()\n",
    "plt.show()\n"
   ]
  }
 ],
 "metadata": {
  "kernelspec": {
   "display_name": "thesis",
   "language": "python",
   "name": "python3"
  },
  "language_info": {
   "codemirror_mode": {
    "name": "ipython",
    "version": 3
   },
   "file_extension": ".py",
   "mimetype": "text/x-python",
   "name": "python",
   "nbconvert_exporter": "python",
   "pygments_lexer": "ipython3",
   "version": "3.12.3"
  }
 },
 "nbformat": 4,
 "nbformat_minor": 5
}
