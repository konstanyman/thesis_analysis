{
 "cells": [
  {
   "cell_type": "code",
   "execution_count": 21,
   "metadata": {},
   "outputs": [],
   "source": [
    "# imports and options\n",
    "import pandas as pd\n",
    "import numpy as np\n",
    "pd.set_option(\"display.max_columns\", None)"
   ]
  },
  {
   "cell_type": "code",
   "execution_count": 22,
   "metadata": {},
   "outputs": [],
   "source": [
    "# read timelines and match ids and tournament ids\n",
    "timelines_df = pd.read_csv('../data/match_timelines.csv')\n",
    "team_names_df = pd.read_csv('../data/match_ids.csv')\n",
    "tournaments_df = pd.read_csv('../data/tournament_ids.csv')\n",
    "\n",
    "# select correct tournaments\n",
    "tournaments_df = tournaments_df[tournaments_df['tournament_id'].isin([57, 58, 59, 60, 61, 62, 102, 103, 104, 105, 106, 107, 152, 153, 154, 155, 156, 157])]"
   ]
  },
  {
   "cell_type": "code",
   "execution_count": 23,
   "metadata": {},
   "outputs": [],
   "source": [
    "# add column of age group and gender\n",
    "tournaments_df['age'] = ['T12', 'P12', 'T13', 'T14', 'P13', 'P14',\n",
    "                         'P13', 'T13', 'T12', 'P12', 'T14', 'P14',\n",
    "                         'P13', 'T12', 'T13', 'T14', 'P14', 'P12']\n",
    "\n",
    "# create year column from name\n",
    "tournaments_df['year'] = tournaments_df['name'].str.extract(r'(\\d{4})')"
   ]
  },
  {
   "cell_type": "code",
   "execution_count": 24,
   "metadata": {},
   "outputs": [],
   "source": [
    "# list international teams\n",
    "int_teams = ['Nords', 'jylland', 'Shamrock', 'Hamma', 'ndby', 'Vitesse', 'Bromma', 'Liding']"
   ]
  },
  {
   "cell_type": "code",
   "execution_count": 25,
   "metadata": {},
   "outputs": [],
   "source": [
    "# create boolean variables for international teams\n",
    "team_names_df['home_team_int'] = team_names_df['home_team'].apply(lambda x: 1 if any(sub in x for sub in int_teams) else 0)\n",
    "team_names_df['away_team_int'] = team_names_df['away_team'].apply(lambda x: 1 if any(sub in x for sub in int_teams) else 0)"
   ]
  },
  {
   "cell_type": "code",
   "execution_count": 26,
   "metadata": {},
   "outputs": [],
   "source": [
    "# add home and away team names to main dataframe\n",
    "timelines_df = timelines_df.merge(team_names_df, on=['tournament_id', 'match_id'], how='left')\n",
    "\n",
    "# add year and age group to main dataframe\n",
    "timelines_df = timelines_df.merge(tournaments_df.drop('name', axis=1), on=['tournament_id'], how='left')\n",
    "\n",
    "# convert times to datetime objects\n",
    "# Convert to datetime\n",
    "timelines_df['start_time'] = pd.to_datetime(timelines_df['start_time'], format='mixed')\n",
    "timelines_df['end_time'] = pd.to_datetime(timelines_df['end_time'], format='mixed')"
   ]
  },
  {
   "cell_type": "code",
   "execution_count": 27,
   "metadata": {},
   "outputs": [],
   "source": [
    "# Function to calculate Euclidean distance\n",
    "def euclidean_distance(x1, y1, x2, y2):\n",
    "    return np.sqrt((x2 - x1) ** 2 + (y2 - y1) ** 2)\n",
    "\n",
    "# Apply distance calculation for \"Pass\" and \"Dribble\" events\n",
    "timelines_df['distance'] = np.where(\n",
    "    timelines_df['event_type'].isin(['Pass', 'Dribble']), \n",
    "    euclidean_distance(timelines_df['start_position_x'], timelines_df['start_position_y'], timelines_df['end_position_x'], timelines_df['end_position_y']),\n",
    "    np.nan  # Assign NaN for other events\n",
    ")\n",
    "\n",
    "# calculate duration of event for possible events\n",
    "timelines_df['duration'] = timelines_df['end_time'] - timelines_df['start_time']\n",
    "timelines_df['duration'] = timelines_df['duration'].dt.total_seconds() #convert to seconds\n",
    "\n",
    "# calculate speed for possible events\n",
    "timelines_df['speed'] = timelines_df['distance'] / timelines_df['duration']\n",
    "timelines_df.loc[(timelines_df['speed'].notna()) & (timelines_df['age'] == 'P14')]\n",
    "\n",
    "# create column of international level (0=f-f, 1=i-f, 2=i-i)\n",
    "timelines_df['int_level'] = timelines_df['home_team_int'] + timelines_df['away_team_int']"
   ]
  },
  {
   "cell_type": "code",
   "execution_count": 28,
   "metadata": {},
   "outputs": [],
   "source": [
    "# save dataframe to csv\n",
    "timelines_df.to_csv('../data/timelines.csv', index=False)"
   ]
  }
 ],
 "metadata": {
  "kernelspec": {
   "display_name": "base",
   "language": "python",
   "name": "python3"
  },
  "language_info": {
   "codemirror_mode": {
    "name": "ipython",
    "version": 3
   },
   "file_extension": ".py",
   "mimetype": "text/x-python",
   "name": "python",
   "nbconvert_exporter": "python",
   "pygments_lexer": "ipython3",
   "version": "3.12.3"
  }
 },
 "nbformat": 4,
 "nbformat_minor": 2
}
